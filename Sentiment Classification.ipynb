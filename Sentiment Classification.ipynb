{
 "cells": [
  {
   "cell_type": "markdown",
   "id": "98dc2c4a",
   "metadata": {},
   "source": [
    "## Youtube Extractor"
   ]
  },
  {
   "cell_type": "code",
   "execution_count": 1,
   "id": "57e39707",
   "metadata": {},
   "outputs": [],
   "source": [
    "import youtube_dl\n"
   ]
  },
  {
   "cell_type": "code",
   "execution_count": 2,
   "id": "deb47a06",
   "metadata": {},
   "outputs": [],
   "source": [
    "ydl=youtube_dl.YoutubeDL()"
   ]
  },
  {
   "cell_type": "code",
   "execution_count": 3,
   "id": "59c1666c",
   "metadata": {},
   "outputs": [],
   "source": [
    "def get_videos_infos(url):\n",
    "    with ydl:\n",
    "        result=ydl.extract_info(url,download=False)\n",
    "        \n",
    "        if \"entries\" in result:    #this is done to get information about the first video\n",
    "           return result[\"entries\"][0]\n",
    "        return result\n",
    "    "
   ]
  },
  {
   "cell_type": "code",
   "execution_count": 11,
   "id": "a98babc9",
   "metadata": {},
   "outputs": [],
   "source": [
    "def get_audio_url(video_info):\n",
    "    for f in video_info['formats']:\n",
    "        if f[\"ext\"]==\"m4a\":\n",
    "            return f[\"url\"]"
   ]
  },
  {
   "cell_type": "code",
   "execution_count": 12,
   "id": "794b49a0",
   "metadata": {},
   "outputs": [
    {
     "name": "stdout",
     "output_type": "stream",
     "text": [
      "[youtube] FVAe2P9luhM: Downloading webpage\n",
      "https://rr2---sn-fpnioxu-jj0l.googlevideo.com/videoplayback?expire=1660248039&ei=hgv1YqyuNKXp2roPy9-nkA4&ip=43.231.243.47&id=o-ABZbrYrEJsFiqMPG2sKXcGbYcapRj8vfBO7IHTQHi9t6&itag=140&source=youtube&requiressl=yes&mh=8H&mm=31%2C29&mn=sn-fpnioxu-jj0l%2Csn-h5576nsz&ms=au%2Crdu&mv=m&mvi=2&pl=22&initcwndbps=783750&spc=lT-KhtRJrqf7R5HHU5JsEuuVcDVgD-Y&vprv=1&mime=audio%2Fmp4&ns=1GwGAfYjZcCNVi5LeGHlC8sH&gir=yes&clen=8944143&dur=552.611&lmt=1649325628545162&mt=1660225972&fvip=4&keepalive=yes&fexp=24001373%2C24007246&c=WEB&rbqsm=fr&txp=5432434&n=zAjyn9HCEeT5-J1J&sparams=expire%2Cei%2Cip%2Cid%2Citag%2Csource%2Crequiressl%2Cspc%2Cvprv%2Cmime%2Cns%2Cgir%2Cclen%2Cdur%2Clmt&sig=AOq0QJ8wRAIgec8n2idAgQliILE33fqvBzTNYZXxq_rj3CkO0DlrtaQCIBGE7KoUljxnNYcDKKG9skJIssmaza0SSKuVDhDf2KHo&lsparams=mh%2Cmm%2Cmn%2Cms%2Cmv%2Cmvi%2Cpl%2Cinitcwndbps&lsig=AG3C_xAwRgIhAJpFX1v0rH1uIEpK_YTROvjF6BzPV-o_3RkOrYXJ7dEtAiEAp3Z0bHetJy_RhuJJ9RoFfkSvQNBMOKJ88ZpUxpNT6Bs%3D\n"
     ]
    }
   ],
   "source": [
    "if __name__ == \"__main__\":\n",
    "    video_info = get_videos_infos(url)\n",
    "    audio_url = get_audio_url(video_info)\n",
    "    print(audio_url)"
   ]
  },
  {
   "cell_type": "markdown",
   "id": "c9aada2f",
   "metadata": {},
   "source": [
    "## Transcript Saving\n"
   ]
  },
  {
   "cell_type": "code",
   "execution_count": 13,
   "id": "2d3df4ae",
   "metadata": {},
   "outputs": [],
   "source": [
    "API_KEY_ASSEMBLYAI=\"088f27b2d61141f89b64df7b8d2e7c3b\""
   ]
  },
  {
   "cell_type": "code",
   "execution_count": 14,
   "id": "12fcee5c",
   "metadata": {},
   "outputs": [],
   "source": [
    "import requests\n",
    "import json\n",
    "import time"
   ]
  },
  {
   "cell_type": "code",
   "execution_count": 15,
   "id": "8f448a9a",
   "metadata": {},
   "outputs": [],
   "source": [
    "upload_endpoint = 'https://api.assemblyai.com/v2/upload'\n",
    "transcript_endpoint = 'https://api.assemblyai.com/v2/transcript'\n",
    "\n",
    "headers_auth_only = {'authorization': API_KEY_ASSEMBLYAI}\n",
    "\n",
    "headers = {\n",
    "    \"authorization\": API_KEY_ASSEMBLYAI,\n",
    "    \"content-type\": \"application/json\"\n",
    "}\n",
    "\n",
    "CHUNK_SIZE = 5_242_880"
   ]
  },
  {
   "cell_type": "code",
   "execution_count": 16,
   "id": "1d101786",
   "metadata": {},
   "outputs": [],
   "source": [
    "def upload(filename):\n",
    "    def read_file(filename):\n",
    "        with open(filename, 'rb') as f:\n",
    "            while True:\n",
    "                data = f.read(CHUNK_SIZE)\n",
    "                if not data:\n",
    "                    break\n",
    "                yield data\n",
    "\n",
    "    upload_response = requests.post(upload_endpoint, headers=headers_auth_only, data=read_file(filename))\n",
    "    return upload_response.json()['upload_url']"
   ]
  },
  {
   "cell_type": "code",
   "execution_count": 17,
   "id": "4b29e190",
   "metadata": {},
   "outputs": [],
   "source": [
    "def transcribe(audio_url, sentiment_analysis):\n",
    "    transcript_request = {\n",
    "        'audio_url': audio_url,\n",
    "        'sentiment_analysis': sentiment_analysis\n",
    "    }\n",
    "\n",
    "    transcript_response = requests.post(transcript_endpoint, json=transcript_request, headers=headers)\n",
    "    return transcript_response.json()['id']"
   ]
  },
  {
   "cell_type": "code",
   "execution_count": 18,
   "id": "70e07397",
   "metadata": {},
   "outputs": [],
   "source": [
    "def poll(transcript_id):\n",
    "    polling_endpoint = transcript_endpoint + '/' + transcript_id\n",
    "    polling_response = requests.get(polling_endpoint, headers=headers)\n",
    "    return polling_response.json()"
   ]
  },
  {
   "cell_type": "code",
   "execution_count": 20,
   "id": "05b28980",
   "metadata": {},
   "outputs": [],
   "source": [
    "def get_transcription_result_url(url, sentiment_analysis):\n",
    "    transcribe_id = transcribe(url, sentiment_analysis)\n",
    "    while True:\n",
    "        data = poll(transcribe_id)\n",
    "        if data['status'] == 'completed':\n",
    "            return data, None\n",
    "        elif data['status'] == 'error':\n",
    "            return data, data['error']\n",
    "            \n",
    "        print(\"waiting for 30 seconds\")\n",
    "        time.sleep(30)"
   ]
  },
  {
   "cell_type": "code",
   "execution_count": 21,
   "id": "c4491bbd",
   "metadata": {},
   "outputs": [],
   "source": [
    "def save_transcript(url, title, sentiment_analysis=False):\n",
    "    data, error = get_transcription_result_url(url, sentiment_analysis)\n",
    "    \n",
    "    if data:\n",
    "        filename = title + '.txt'\n",
    "        with open(filename, 'w') as f:\n",
    "            f.write(data['text'])\n",
    "             \n",
    "        if sentiment_analysis:   \n",
    "            filename = title + '_sentiments.json'\n",
    "            with open(filename, 'w') as f:\n",
    "                sentiments = data['sentiment_analysis_results']\n",
    "                json.dump(sentiments, f, indent=4)\n",
    "        print('Transcript saved')\n",
    "        return True\n",
    "    elif error:\n",
    "        print(\"Error!!!\", error)\n",
    "        return False"
   ]
  },
  {
   "cell_type": "markdown",
   "id": "8cd47988",
   "metadata": {},
   "source": [
    "## Sentiment Classification"
   ]
  },
  {
   "cell_type": "code",
   "execution_count": 28,
   "id": "746d348e",
   "metadata": {},
   "outputs": [],
   "source": [
    "def save_video_sentiment(url):\n",
    "    videos_infos=get_videos_infos(url)\n",
    "    audio_url=get_audio_url(videos_infos)\n",
    "    title=videos_infos[\"title\"].strip().replace(\" \",\"\")\n",
    "    save_transcript(audio_url,title, True)\n",
    "    "
   ]
  },
  {
   "cell_type": "code",
   "execution_count": 31,
   "id": "a7f510e0",
   "metadata": {},
   "outputs": [
    {
     "name": "stdout",
     "output_type": "stream",
     "text": [
      "[youtube] FVAe2P9luhM: Downloading webpage\n",
      "waiting for 30 seconds\n",
      "waiting for 30 seconds\n",
      "waiting for 30 seconds\n",
      "waiting for 30 seconds\n",
      "waiting for 30 seconds\n",
      "waiting for 30 seconds\n",
      "waiting for 30 seconds\n",
      "waiting for 30 seconds\n",
      "waiting for 30 seconds\n",
      "waiting for 30 seconds\n",
      "waiting for 30 seconds\n",
      "Transcript saved\n"
     ]
    }
   ],
   "source": [
    "if __name__==\"__main__\":\n",
    "    save_video_sentiment(\"https://www.youtube.com/watch?v=FVAe2P9luhM\")\n",
    "    "
   ]
  },
  {
   "cell_type": "code",
   "execution_count": 33,
   "id": "449ee7ac",
   "metadata": {},
   "outputs": [
    {
     "name": "stdout",
     "output_type": "stream",
     "text": [
      "Num positives: 34\n",
      "Num negatives: 17\n",
      "Num neutrals: 24\n",
      "Positive ratio: 0.6666666666666666\n"
     ]
    }
   ],
   "source": [
    "with open(\"SamsungGalaxyA23Review!_sentiments.json\", \"r\") as f:\n",
    "    data = json.load(f)\n",
    "    \n",
    "    positives = 0\n",
    "    negatives = 0\n",
    "    neutrals = 0\n",
    "    for result in data:\n",
    "        text = result[\"text\"]\n",
    "        if result[\"sentiment\"] == \"POSITIVE\":\n",
    "            positives=positives+1\n",
    "        elif result[\"sentiment\"] == \"NEGATIVE\":\n",
    "            negatives=negatives+1\n",
    "        else:\n",
    "            neutrals=neutrals+1\n",
    "\n",
    "    print(\"Num positives:\", positives)\n",
    "    print(\"Num negatives:\", negatives)\n",
    "    print(\"Num neutrals:\", neutrals)\n",
    "\n",
    "    # ignore neutrals here\n",
    "    r = positives / (positives + negatives)\n",
    "    print(f\"Positive ratio: {r}\")"
   ]
  },
  {
   "cell_type": "code",
   "execution_count": null,
   "id": "dc49edad",
   "metadata": {},
   "outputs": [],
   "source": []
  }
 ],
 "metadata": {
  "kernelspec": {
   "display_name": "Python 3",
   "language": "python",
   "name": "python3"
  },
  "language_info": {
   "codemirror_mode": {
    "name": "ipython",
    "version": 3
   },
   "file_extension": ".py",
   "mimetype": "text/x-python",
   "name": "python",
   "nbconvert_exporter": "python",
   "pygments_lexer": "ipython3",
   "version": "3.9.4"
  }
 },
 "nbformat": 4,
 "nbformat_minor": 5
}
